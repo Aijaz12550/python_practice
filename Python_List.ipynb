{
 "cells": [
  {
   "cell_type": "code",
   "execution_count": 1,
   "metadata": {},
   "outputs": [
    {
     "name": "stdout",
     "output_type": "stream",
     "text": [
      "['apple', 'banana', 'apple', 'mango', 'apple']\n"
     ]
    }
   ],
   "source": [
    "l1 = [ 'apple', 'banana', 'apple', 'mango']\n",
    "l1.append('apple') #it will add apple at last index..\n",
    "print(l1)"
   ]
  },
  {
   "cell_type": "code",
   "execution_count": 3,
   "metadata": {},
   "outputs": [
    {
     "name": "stdout",
     "output_type": "stream",
     "text": [
      "['apple', 'banana', 'apple', 'mango', '']\n"
     ]
    }
   ],
   "source": [
    "l1 = [ 'apple', 'banana', 'apple', 'mango']\n",
    "l1.append('') #it will add '' at last index..\n",
    "print(l1)"
   ]
  },
  {
   "cell_type": "markdown",
   "metadata": {},
   "source": [
    "# multiple Variables in single line"
   ]
  },
  {
   "cell_type": "code",
   "execution_count": 4,
   "metadata": {},
   "outputs": [],
   "source": [
    "name, fname, class1 = 'Aijaz', 'Abbasi', 'AI'"
   ]
  },
  {
   "cell_type": "code",
   "execution_count": 13,
   "metadata": {},
   "outputs": [
    {
     "name": "stdout",
     "output_type": "stream",
     "text": [
      "[0, 1, 2, 3, 4, 5, 6, 7]\n"
     ]
    }
   ],
   "source": [
    "nameList = ['Aijaz', 'Abbasi', 'AI']\n",
    "name, fname, class1 = nameList\n",
    "class1\n",
    "\n",
    "l =[]\n",
    "for i in range(0,8):\n",
    "    l.append(i)\n",
    "print(l)\n"
   ]
  },
  {
   "cell_type": "markdown",
   "metadata": {},
   "source": [
    "# List Comprehension"
   ]
  },
  {
   "cell_type": "code",
   "execution_count": 14,
   "metadata": {},
   "outputs": [
    {
     "data": {
      "text/plain": [
       "[0, 1, 2, 3, 4, 5, 6, 7]"
      ]
     },
     "execution_count": 14,
     "metadata": {},
     "output_type": "execute_result"
    }
   ],
   "source": [
    "l2 = [i for i in range(0,8)]\n",
    "l2"
   ]
  },
  {
   "cell_type": "code",
   "execution_count": 27,
   "metadata": {},
   "outputs": [
    {
     "name": "stdout",
     "output_type": "stream",
     "text": [
      "name\n",
      "name\n",
      "name\n"
     ]
    }
   ],
   "source": [
    "employees = [['name','father','designation'],['name','father','designation'],['name','father','designation']]\n",
    "for i in range(0,3):\n",
    "    print(employees[i][0])"
   ]
  },
  {
   "cell_type": "code",
   "execution_count": 24,
   "metadata": {},
   "outputs": [
    {
     "data": {
      "text/plain": [
       "['name', 'name', 'name']"
      ]
     },
     "execution_count": 24,
     "metadata": {},
     "output_type": "execute_result"
    }
   ],
   "source": [
    "employees1 = [['name','father','designation'],['name','father','designation'],['name','father','designation']]\n",
    "l2 = [i[0] for i in employees]\n",
    "l2"
   ]
  },
  {
   "cell_type": "markdown",
   "metadata": {},
   "source": [
    "# slicing"
   ]
  },
  {
   "cell_type": "code",
   "execution_count": 30,
   "metadata": {},
   "outputs": [
    {
     "data": {
      "text/plain": [
       "dict_keys(['name', 'id'])"
      ]
     },
     "execution_count": 30,
     "metadata": {},
     "output_type": "execute_result"
    }
   ],
   "source": [
    "card = {\n",
    "    'name' : 'Aijaz',\n",
    "    'id'    : 123\n",
    "}\n",
    "card['name']\n",
    "card.keys()"
   ]
  },
  {
   "cell_type": "code",
   "execution_count": 33,
   "metadata": {},
   "outputs": [
    {
     "name": "stdout",
     "output_type": "stream",
     "text": [
      "{'name': 'Aijaz', 'fname': 'AliAkbar'}\n"
     ]
    }
   ],
   "source": [
    "l3 = [\n",
    "    {\n",
    "        'name':'Aijaz',\n",
    "        'fname':'AliAkbar'\n",
    "    },\n",
    "    {\n",
    "        'name':'Aij',\n",
    "        'fname':'AliAkbar'\n",
    "    },\n",
    "    {\n",
    "        'name':'Aija',\n",
    "        'fname':'AliAkbar'\n",
    "    },\n",
    "]\n",
    "\n",
    "for e in range(0,1):\n",
    "    if l3[e]['name'] == 'Aijaz':\n",
    "        print(l3[e])"
   ]
  },
  {
   "cell_type": "code",
   "execution_count": 39,
   "metadata": {},
   "outputs": [
    {
     "data": {
      "text/plain": [
       "[{'name': 'Aijaz', 'fname': 'AliAkbar'}, 'not found', 'not found']"
      ]
     },
     "execution_count": 39,
     "metadata": {},
     "output_type": "execute_result"
    }
   ],
   "source": [
    "l4 = [x  if x['name'] == 'Aijaz' else 'not found' for x in l3]\n",
    "l4"
   ]
  },
  {
   "cell_type": "code",
   "execution_count": 40,
   "metadata": {},
   "outputs": [],
   "source": [
    "def lengthof(l5):\n",
    "    length = 0\n",
    "    "
   ]
  },
  {
   "cell_type": "code",
   "execution_count": 42,
   "metadata": {},
   "outputs": [
    {
     "data": {
      "text/plain": [
       "21"
      ]
     },
     "execution_count": 42,
     "metadata": {},
     "output_type": "execute_result"
    }
   ],
   "source": [
    "def summat(l1):\n",
    "    summ=0\n",
    "    for i in l1:\n",
    "        summ = summ+i  # summ += i\n",
    "    return summ\n",
    "\n",
    "l6 =[1,4,7,9]\n",
    "summat(l6)"
   ]
  },
  {
   "cell_type": "code",
   "execution_count": 45,
   "metadata": {},
   "outputs": [
    {
     "data": {
      "text/plain": [
       "'jdjhfm'"
      ]
     },
     "execution_count": 45,
     "metadata": {},
     "output_type": "execute_result"
    }
   ],
   "source": [
    "def pt(ll): # replicate of  print punction\n",
    "    return ll\n",
    "pt('jdjhfm')"
   ]
  },
  {
   "cell_type": "code",
   "execution_count": 49,
   "metadata": {},
   "outputs": [
    {
     "data": {
      "text/plain": [
       "23"
      ]
     },
     "execution_count": 49,
     "metadata": {},
     "output_type": "execute_result"
    }
   ],
   "source": [
    "a = 12\n",
    "b = 23\n",
    "\n",
    "a,b=b,a\n",
    "a"
   ]
  },
  {
   "cell_type": "code",
   "execution_count": 56,
   "metadata": {},
   "outputs": [
    {
     "name": "stdout",
     "output_type": "stream",
     "text": [
      "1\n"
     ]
    }
   ],
   "source": [
    "b\n",
    "print(a%2)"
   ]
  },
  {
   "cell_type": "code",
   "execution_count": 58,
   "metadata": {},
   "outputs": [
    {
     "data": {
      "text/plain": [
       "24"
      ]
     },
     "execution_count": 58,
     "metadata": {},
     "output_type": "execute_result"
    }
   ],
   "source": [
    "if a%2 == 0 :\n",
    "    c=a\n",
    "else:\n",
    "    c=a+1\n",
    "c    "
   ]
  },
  {
   "cell_type": "code",
   "execution_count": 85,
   "metadata": {},
   "outputs": [
    {
     "data": {
      "text/plain": [
       "[(0, 2, 9), (1, 5, 3), (3, 7, 4)]"
      ]
     },
     "execution_count": 85,
     "metadata": {},
     "output_type": "execute_result"
    }
   ],
   "source": [
    "l7 = [ (0,2,9),(3,7,4),(1,5,3),]\n",
    "# print(l7[0][2])\n",
    "\n",
    "l7.sort(key=lambda tup: tup[1])\n",
    "# l7.sort(key=lambda tup: tup[2])  \n",
    "\n",
    "l7\n",
    "\n"
   ]
  },
  {
   "cell_type": "code",
   "execution_count": 104,
   "metadata": {},
   "outputs": [],
   "source": [
    "d1 = {\n",
    "    'n':3,\n",
    "    'f':6,\n",
    "    'c': 4\n",
    "}\n",
    "\n",
    "obj1 = dict(sorted(d1.items(), key=lambda v:v[1]))"
   ]
  },
  {
   "cell_type": "code",
   "execution_count": null,
   "metadata": {},
   "outputs": [],
   "source": [
    "a = input('enter text')\n",
    "b = a.split()\n",
    "print(b)\n",
    "c ={}\n",
    "\n",
    "for i in b:\n",
    "    if i in c:\n",
    "        c[i] += 1\n",
    "    else:\n",
    "        c[i] = 1\n",
    "\n",
    "c"
   ]
  },
  {
   "cell_type": "code",
   "execution_count": null,
   "metadata": {},
   "outputs": [],
   "source": [
    "d = range(1,2019)\n",
    "print([d])"
   ]
  },
  {
   "cell_type": "code",
   "execution_count": null,
   "metadata": {},
   "outputs": [],
   "source": [
    "print('fjf')"
   ]
  },
  {
   "cell_type": "code",
   "execution_count": null,
   "metadata": {},
   "outputs": [],
   "source": []
  }
 ],
 "metadata": {
  "kernelspec": {
   "display_name": "Python 3",
   "language": "python",
   "name": "python3"
  },
  "language_info": {
   "codemirror_mode": {
    "name": "ipython",
    "version": 3
   },
   "file_extension": ".py",
   "mimetype": "text/x-python",
   "name": "python",
   "nbconvert_exporter": "python",
   "pygments_lexer": "ipython3",
   "version": "3.7.3"
  }
 },
 "nbformat": 4,
 "nbformat_minor": 2
}
