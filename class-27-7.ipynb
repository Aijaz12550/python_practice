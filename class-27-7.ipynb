{
 "cells": [
  {
   "cell_type": "code",
   "execution_count": 1,
   "metadata": {},
   "outputs": [],
   "source": [
    "#modules...\n",
    "\n",
    "# 1 OS Module  ==> folder bnana , delete karna , check karna operating system..\n",
    "# 2 Date time module\n",
    "# maths module\n",
    "# csv module\n",
    "\n",
    "# collection \n",
    "# python.py  python ki koi b aik file module hai ...\n",
    "# python ky project m hum jo  folder bnaty hai wo aik package hai..."
   ]
  },
  {
   "cell_type": "code",
   "execution_count": 4,
   "metadata": {},
   "outputs": [
    {
     "name": "stdout",
     "output_type": "stream",
     "text": [
      "<class 'datetime.datetime'>\n"
     ]
    }
   ],
   "source": [
    "import datetime as dt\n",
    "\n",
    "# date_time = datetime.datetime()\n",
    "# press shift+tab in brackets to know to method\n",
    "date_time = dt.datetime(2011,1,2)\n",
    "date_time\n",
    "print(type(date_time))"
   ]
  },
  {
   "cell_type": "code",
   "execution_count": 10,
   "metadata": {},
   "outputs": [
    {
     "name": "stdout",
     "output_type": "stream",
     "text": [
      "2001-01-02 00:00:00\n"
     ]
    }
   ],
   "source": [
    "dob = '2001-2-1'\n",
    "today= '2019-7-27'\n",
    "dtime = dt.datetime.strptime(dob,'%Y-%d-%m')\n",
    "today_time = dt.datetime.strptime(today,'%Y-%d-%m')\n",
    "print(dtime)\n"
   ]
  },
  {
   "cell_type": "code",
   "execution_count": null,
   "metadata": {},
   "outputs": [],
   "source": []
  }
 ],
 "metadata": {
  "kernelspec": {
   "display_name": "Python 3",
   "language": "python",
   "name": "python3"
  },
  "language_info": {
   "codemirror_mode": {
    "name": "ipython",
    "version": 3
   },
   "file_extension": ".py",
   "mimetype": "text/x-python",
   "name": "python",
   "nbconvert_exporter": "python",
   "pygments_lexer": "ipython3",
   "version": "3.7.3"
  }
 },
 "nbformat": 4,
 "nbformat_minor": 2
}
