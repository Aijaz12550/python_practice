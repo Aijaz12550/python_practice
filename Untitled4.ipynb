{
 "cells": [
  {
   "cell_type": "code",
   "execution_count": null,
   "metadata": {},
   "outputs": [],
   "source": [
    "mobileDetail = {\n",
    "    'iphone5' : { 'price' : 50000, 'camera' : '20mgp', 'Battery' : '4000mAh'},\n",
    "    'iphone6' : { 'price' : 60000, 'camera' : '25mgp', 'Battery' : '5000mAh'}\n",
    "} \n",
    "# x = mobileDetail.keys()\n",
    "# print(len(x)\n",
    "search = input('Search item =  ')\n",
    "naMiley = search, 'smart phone not found'\n",
    "for key in mobileDetail:\n",
    "    if search == key :\n",
    "        print('Price = ',  mobileDetail[key]['price'])\n",
    "        print('Camera = ',  mobileDetail[key]['camera'])\n",
    "        print('Battery = ',  mobileDetail[key]['Battery']) \n",
    "        break\n",
    "    else:\n",
    "        print(search, 'smart phone not found')"
   ]
  },
  {
   "cell_type": "code",
   "execution_count": null,
   "metadata": {},
   "outputs": [],
   "source": []
  }
 ],
 "metadata": {
  "kernelspec": {
   "display_name": "Python 3",
   "language": "python",
   "name": "python3"
  },
  "language_info": {
   "codemirror_mode": {
    "name": "ipython",
    "version": 3
   },
   "file_extension": ".py",
   "mimetype": "text/x-python",
   "name": "python",
   "nbconvert_exporter": "python",
   "pygments_lexer": "ipython3",
   "version": "3.7.3"
  }
 },
 "nbformat": 4,
 "nbformat_minor": 2
}
