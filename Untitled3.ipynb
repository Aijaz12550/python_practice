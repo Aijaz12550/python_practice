{
 "cells": [
  {
   "cell_type": "code",
   "execution_count": 1,
   "metadata": {},
   "outputs": [
    {
     "name": "stdout",
     "output_type": "stream",
     "text": [
      "tyt\n"
     ]
    }
   ],
   "source": [
    "print('tyt')"
   ]
  },
  {
   "cell_type": "markdown",
   "metadata": {},
   "source": [
    "# list\n"
   ]
  },
  {
   "cell_type": "code",
   "execution_count": 11,
   "metadata": {},
   "outputs": [
    {
     "data": {
      "text/plain": [
       "['aijaz', 100, 22.2, True]"
      ]
     },
     "execution_count": 11,
     "metadata": {},
     "output_type": "execute_result"
    }
   ],
   "source": [
    "L1=['aijaz',100,22.2,True]\n",
    "L1"
   ]
  },
  {
   "cell_type": "code",
   "execution_count": 12,
   "metadata": {},
   "outputs": [
    {
     "data": {
      "text/plain": [
       "4"
      ]
     },
     "execution_count": 12,
     "metadata": {},
     "output_type": "execute_result"
    }
   ],
   "source": [
    "len(L1)"
   ]
  },
  {
   "cell_type": "code",
   "execution_count": null,
   "metadata": {},
   "outputs": [],
   "source": [
    "i=0\n",
    "while i < len(L1):\n",
    "    print(L1[i])\n",
    "    i -= 1"
   ]
  },
  {
   "cell_type": "code",
   "execution_count": null,
   "metadata": {},
   "outputs": [],
   "source": [
    "L2 = [12,45,656,878,3]\n",
    "sorted(L2)\n",
    "print(L2)"
   ]
  },
  {
   "cell_type": "code",
   "execution_count": null,
   "metadata": {},
   "outputs": [],
   "source": [
    "sorted(L2,reverse=True) #inLine operation"
   ]
  },
  {
   "cell_type": "code",
   "execution_count": 2,
   "metadata": {},
   "outputs": [],
   "source": [
    "# range(start, end, step)"
   ]
  },
  {
   "cell_type": "code",
   "execution_count": 17,
   "metadata": {},
   "outputs": [
    {
     "name": "stdout",
     "output_type": "stream",
     "text": [
      "Search item =  iphone12\n",
      "Price =  890000\n",
      "Camera =  100mgp\n",
      "Battery =  15000mAh\n"
     ]
    }
   ],
   "source": [
    "# Searching data from Dictionary\n",
    "\n",
    "mobileDetail = {\n",
    "    'iphone5' : { 'price' : 50000, 'camera' : '20mgp', 'Battery' : '4000mAh'},\n",
    "    'iphone6' : { 'price' : 60000, 'camera' : '25mgp', 'Battery' : '5000mAh'},\n",
    "     'iphone7' : { 'price' : 50000, 'camera' : '20mgp', 'Battery' : '4000mAh'},\n",
    "    'iphone8' : { 'price' : 60000, 'camera' : '25mgp', 'Battery' : '5000mAh'},\n",
    "     'iphone9' : { 'price' : 150000, 'camera' : '20mgp', 'Battery' : '4000mAh'},\n",
    "    'iphone10' : { 'price' : 6220000, 'camera' : '45mgp', 'Battery' : '5000mAh'},\n",
    "     'iphone11' : { 'price' : 1250000, 'camera' : '20mgp', 'Battery' : '4000mAh'},\n",
    "    'iphone12' : { 'price' : 890000, 'camera' : '100mgp', 'Battery' : '15000mAh'},\n",
    "} \n",
    "\n",
    "x = mobileDetail.keys()\n",
    "search = input('Search item =  ')\n",
    "naMiley = search,'smart phone not found'\n",
    "count = 0\n",
    "\n",
    "for key in mobileDetail:\n",
    "    count = count + 1\n",
    "    \n",
    "    if search == key :\n",
    "        naMiley = ''\n",
    "        print('Price = ',  mobileDetail[key]['price'])\n",
    "        print('Camera = ',  mobileDetail[key]['camera'])\n",
    "        print('Battery = ',  mobileDetail[key]['Battery']) \n",
    "        break\n",
    "        \n",
    "    elif len(mobileDetail) == count:\n",
    "        print(naMiley)\n",
    "        "
   ]
  },
  {
   "cell_type": "code",
   "execution_count": null,
   "metadata": {},
   "outputs": [],
   "source": []
  }
 ],
 "metadata": {
  "kernelspec": {
   "display_name": "Python 3",
   "language": "python",
   "name": "python3"
  },
  "language_info": {
   "codemirror_mode": {
    "name": "ipython",
    "version": 3
   },
   "file_extension": ".py",
   "mimetype": "text/x-python",
   "name": "python",
   "nbconvert_exporter": "python",
   "pygments_lexer": "ipython3",
   "version": "3.7.3"
  }
 },
 "nbformat": 4,
 "nbformat_minor": 2
}
