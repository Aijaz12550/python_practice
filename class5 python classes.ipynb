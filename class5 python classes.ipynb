{
 "cells": [
  {
   "cell_type": "code",
   "execution_count": 52,
   "metadata": {},
   "outputs": [],
   "source": [
    "\n",
    "class Man():\n",
    "    \n",
    "    center = 'saylani'\n",
    "    counter = 0 # class variable\n",
    "    \n",
    "    def __init__(self, name, fname, qualification): #constructor , init constructor ka nam hai ..ye constant hai\n",
    "        self.name = name                       # attributes of class\n",
    "        self.fname = fname\n",
    "        self.qualification = qualification\n",
    "        self.course = \"AI\"\n",
    "        Man.counter += 1\n",
    "        \n",
    "    def speak(self, words='hello'):#method of class\n",
    "        print(words)\n",
    "    def update(self, name):\n",
    "        self.name = name"
   ]
  },
  {
   "cell_type": "code",
   "execution_count": 53,
   "metadata": {},
   "outputs": [],
   "source": [
    "obj1 = Man('Qasim', 'Aslam', 'BSCS') #instant\n",
    "obj2 = Man('Aijaz', 'Ali Akbar', 'MSc')\n",
    "obj3 = Man('lala', 'Aslam', 'BS')"
   ]
  },
  {
   "cell_type": "code",
   "execution_count": 54,
   "metadata": {},
   "outputs": [
    {
     "name": "stdout",
     "output_type": "stream",
     "text": [
      "Qasim\n",
      "Aijaz\n",
      "lala\n",
      "AI\n"
     ]
    }
   ],
   "source": [
    "print(obj1.name)\n",
    "print(obj2.name)\n",
    "print(obj3.name)\n",
    "print(obj1.course)"
   ]
  },
  {
   "cell_type": "code",
   "execution_count": 55,
   "metadata": {},
   "outputs": [
    {
     "data": {
      "text/plain": [
       "3"
      ]
     },
     "execution_count": 55,
     "metadata": {},
     "output_type": "execute_result"
    }
   ],
   "source": [
    "Man.counter"
   ]
  },
  {
   "cell_type": "code",
   "execution_count": 56,
   "metadata": {},
   "outputs": [
    {
     "name": "stdout",
     "output_type": "stream",
     "text": [
      "maseria\n"
     ]
    }
   ],
   "source": [
    "obj1.speak('maseria')"
   ]
  },
  {
   "cell_type": "code",
   "execution_count": 57,
   "metadata": {},
   "outputs": [
    {
     "data": {
      "text/plain": [
       "'Qasim'"
      ]
     },
     "execution_count": 57,
     "metadata": {},
     "output_type": "execute_result"
    }
   ],
   "source": [
    "obj1.name"
   ]
  },
  {
   "cell_type": "markdown",
   "metadata": {},
   "source": [
    "obj1.update('hhhg')"
   ]
  },
  {
   "cell_type": "code",
   "execution_count": 58,
   "metadata": {},
   "outputs": [
    {
     "data": {
      "text/plain": [
       "'Qasim'"
      ]
     },
     "execution_count": 58,
     "metadata": {},
     "output_type": "execute_result"
    }
   ],
   "source": [
    "obj1.name"
   ]
  },
  {
   "cell_type": "code",
   "execution_count": 59,
   "metadata": {},
   "outputs": [],
   "source": [
    "class Ocean1():\n",
    "    def __init__(this, name, depth, salinity):\n",
    "        this.name = name\n",
    "        this.depth = depth\n",
    "        this.salinity = salinity\n",
    "        \n",
    "    def density(this, value='3.2'):\n",
    "        print(value)\n",
    "    \n",
    "objOcean = Ocean('pacific', '5km', '1')\n",
    "\n",
    "\n",
    "class Ocean2():\n",
    "    def __init__(this, name, depth, salinity,temp):\n",
    "        super().__init__(name, depth, salinity)\n",
    "        this.temp = '15'\n",
    "    \n",
    "        \n",
    "    def density(this, value='3.2'):\n",
    "        print(value)\n",
    "    \n",
    "objOcean = Ocean('pacific', '5km', '1')"
   ]
  },
  {
   "cell_type": "code",
   "execution_count": null,
   "metadata": {},
   "outputs": [],
   "source": []
  },
  {
   "cell_type": "code",
   "execution_count": 60,
   "metadata": {},
   "outputs": [
    {
     "data": {
      "text/plain": [
       "'5km'"
      ]
     },
     "execution_count": 60,
     "metadata": {},
     "output_type": "execute_result"
    }
   ],
   "source": [
    "objOcean.depth"
   ]
  },
  {
   "cell_type": "code",
   "execution_count": 61,
   "metadata": {},
   "outputs": [
    {
     "name": "stdout",
     "output_type": "stream",
     "text": [
      "3.2\n"
     ]
    }
   ],
   "source": [
    "objOcean.density()"
   ]
  },
  {
   "cell_type": "markdown",
   "metadata": {},
   "source": [
    "# inheritence"
   ]
  },
  {
   "cell_type": "code",
   "execution_count": 66,
   "metadata": {},
   "outputs": [],
   "source": [
    "class Baba(Man):\n",
    "    pass\n",
    "    \n",
    "    def watch(this,value='tourism'):\n",
    "        print(value)"
   ]
  },
  {
   "cell_type": "code",
   "execution_count": 67,
   "metadata": {},
   "outputs": [],
   "source": [
    "ob1 = Baba('ali','jskdj','nursery')"
   ]
  },
  {
   "cell_type": "code",
   "execution_count": 68,
   "metadata": {},
   "outputs": [
    {
     "data": {
      "text/plain": [
       "'jskdj'"
      ]
     },
     "execution_count": 68,
     "metadata": {},
     "output_type": "execute_result"
    }
   ],
   "source": [
    "ob1.fname"
   ]
  },
  {
   "cell_type": "code",
   "execution_count": 69,
   "metadata": {},
   "outputs": [
    {
     "name": "stdout",
     "output_type": "stream",
     "text": [
      "tourism\n"
     ]
    }
   ],
   "source": [
    "ob1.watch()"
   ]
  },
  {
   "cell_type": "markdown",
   "metadata": {},
   "source": []
  },
  {
   "cell_type": "code",
   "execution_count": 71,
   "metadata": {},
   "outputs": [],
   "source": [
    "class Humans():\n",
    "    def __init__(this):\n",
    "        this.characters = 'three'\n",
    "        this.name1  =  'Aijaz'\n",
    "        this.name2  =  'ban0'\n",
    "    "
   ]
  },
  {
   "cell_type": "code",
   "execution_count": 76,
   "metadata": {},
   "outputs": [],
   "source": [
    "class Women(Humans):\n",
    "    def __init__(this, name):\n",
    "        super().__init__()\n",
    "        this.name = name"
   ]
  },
  {
   "cell_type": "code",
   "execution_count": 79,
   "metadata": {},
   "outputs": [
    {
     "data": {
      "text/plain": [
       "'hfgdh'"
      ]
     },
     "execution_count": 79,
     "metadata": {},
     "output_type": "execute_result"
    }
   ],
   "source": [
    "o = Women('hfgdh')\n",
    "o.name"
   ]
  },
  {
   "cell_type": "markdown",
   "metadata": {},
   "source": [
    "# polymorphism\n",
    "over riding and over loading"
   ]
  },
  {
   "cell_type": "markdown",
   "metadata": {},
   "source": [
    "# #Encapsulation"
   ]
  },
  {
   "cell_type": "markdown",
   "metadata": {},
   "source": [
    "# Abstract class"
   ]
  },
  {
   "cell_type": "code",
   "execution_count": 2,
   "metadata": {},
   "outputs": [],
   "source": [
    "class Human:\n",
    "    def __init__(this):\n",
    "        this.name = None\n",
    "        this.age = None\n",
    "        \n",
    "   \n",
    "    "
   ]
  },
  {
   "cell_type": "code",
   "execution_count": null,
   "metadata": {},
   "outputs": [],
   "source": []
  }
 ],
 "metadata": {
  "kernelspec": {
   "display_name": "Python 3",
   "language": "python",
   "name": "python3"
  },
  "language_info": {
   "codemirror_mode": {
    "name": "ipython",
    "version": 3
   },
   "file_extension": ".py",
   "mimetype": "text/x-python",
   "name": "python",
   "nbconvert_exporter": "python",
   "pygments_lexer": "ipython3",
   "version": "3.7.3"
  }
 },
 "nbformat": 4,
 "nbformat_minor": 2
}
