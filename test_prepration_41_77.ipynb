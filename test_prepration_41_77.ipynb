{
 "cells": [
  {
   "cell_type": "code",
   "execution_count": 31,
   "metadata": {},
   "outputs": [
    {
     "name": "stdout",
     "output_type": "stream",
     "text": [
      "hello\n"
     ]
    }
   ],
   "source": [
    "def x():\n",
    "    print('hello')\n",
    "        \n",
    "x()"
   ]
  },
  {
   "cell_type": "markdown",
   "metadata": {},
   "source": [
    "# factorial calculation"
   ]
  },
  {
   "cell_type": "code",
   "execution_count": 39,
   "metadata": {},
   "outputs": [
    {
     "data": {
      "text/plain": [
       "120"
      ]
     },
     "execution_count": 39,
     "metadata": {},
     "output_type": "execute_result"
    }
   ],
   "source": [
    "def factorial_calculator(number):\n",
    "    if number == 0:\n",
    "        return 1\n",
    "    else:\n",
    "        return number * factorial_calculator(number-1)\n",
    "       \n",
    "    \n",
    "        \n",
    "factorial_calculator(5)        "
   ]
  },
  {
   "cell_type": "code",
   "execution_count": 51,
   "metadata": {},
   "outputs": [
    {
     "name": "stdout",
     "output_type": "stream",
     "text": [
      "120 and 150 your cost is 270\n"
     ]
    }
   ],
   "source": [
    "burgers = {\n",
    "    'chicken' : 120,\n",
    "    \"beef\" : 150,\n",
    "    'cheese':100,\n",
    "}\n",
    "\n",
    "def calc():\n",
    "    total = burgers['chicken'] + burgers['beef']\n",
    "    name =f\"{burgers['chicken']} and {burgers['beef']}\"\n",
    "    print(f\"{name} your cost is {total}\")\n",
    "    \n",
    "calc()    "
   ]
  },
  {
   "cell_type": "markdown",
   "metadata": {},
   "source": [
    "# Lambda"
   ]
  },
  {
   "cell_type": "code",
   "execution_count": 1,
   "metadata": {},
   "outputs": [
    {
     "data": {
      "text/plain": [
       "5"
      ]
     },
     "execution_count": 1,
     "metadata": {},
     "output_type": "execute_result"
    }
   ],
   "source": [
    "(lambda x,y:x+y)(2,3)"
   ]
  },
  {
   "cell_type": "code",
   "execution_count": 3,
   "metadata": {},
   "outputs": [
    {
     "data": {
      "text/plain": [
       "2"
      ]
     },
     "execution_count": 3,
     "metadata": {},
     "output_type": "execute_result"
    }
   ],
   "source": [
    " star = lambda a,b,c,d,e,f: a+d-e*c+f\n",
    "    \n",
    "star(1,1,1,1,1,1)"
   ]
  },
  {
   "cell_type": "code",
   "execution_count": 6,
   "metadata": {},
   "outputs": [
    {
     "name": "stdout",
     "output_type": "stream",
     "text": [
      "Student : Aijaz\n",
      "Enter \"average\", \"total\", \"top\"top\n",
      "98\n",
      "Student : Sheh\n",
      "Enter \"average\", \"total\", \"top\"total\n",
      "93\n",
      "Student : Zain\n",
      "Enter \"average\", \"total\", \"top\"average\n",
      "92.0\n"
     ]
    }
   ],
   "source": [
    "students=[\n",
    "    {\"name\":\"Aijaz\", \"grades\":(85,98,93,91)},\n",
    "     {\"name\":\"Sheh\", \"grades\":(85,89,93,91)},\n",
    "     {\"name\":\"Zain\", \"grades\":(85,98,94,91)},\n",
    "]\n",
    "\n",
    "function_container={\n",
    "    'top': lambda seq: max(seq),\n",
    "    \"total\":lambda seq: max(seq),\n",
    "    \"average\": lambda seq: sum(seq)/len(seq)\n",
    "}\n",
    "\n",
    "for student in students:\n",
    "    name = student['name']\n",
    "    grades=student['grades']\n",
    "    \n",
    "    print(f\"Student : {name}\")\n",
    "    operation = input('Enter \"average\", \"total\", \"top\"')\n",
    "    \n",
    "    result= function_container[operation](grades)\n",
    "    print(result)\n"
   ]
  },
  {
   "cell_type": "code",
   "execution_count": 1,
   "metadata": {},
   "outputs": [
    {
     "name": "stdout",
     "output_type": "stream",
     "text": [
      "def calc():\n",
      "    total = burgers['chicken'] + burgers['beef']\n",
      "    name =f\"{burgers['chicken']} and {burgers['beef']}\"\n",
      "    print(f\"{name} your cost is {total}\")\n",
      "    \n",
      "calc()  \n"
     ]
    }
   ],
   "source": [
    "with open('myfile.csv', 'r') as f:\n",
    "    file = f.read()\n",
    "print(file)"
   ]
  },
  {
   "cell_type": "code",
   "execution_count": 6,
   "metadata": {},
   "outputs": [
    {
     "name": "stdout",
     "output_type": "stream",
     "text": [
      "hello worldhello/n hello\n",
      " hello\n"
     ]
    }
   ],
   "source": [
    "with open('myfile.csv', 'a') as f:\n",
    "    f.write('\\n hello')\n",
    "\n",
    "with open('myfile.csv', 'r') as f:\n",
    "    file = f.read()\n",
    "print(file)"
   ]
  },
  {
   "cell_type": "code",
   "execution_count": 12,
   "metadata": {},
   "outputs": [],
   "source": [
    "\n",
    "import json\n",
    "alphabet_letters = [\"a\", \"b\", \"c\"]\n",
    "with open(\"./alphabet_list.txt\", \"w\") as f:\n",
    "    json.dump(alphabet_letters,f)"
   ]
  },
  {
   "cell_type": "code",
   "execution_count": 15,
   "metadata": {},
   "outputs": [
    {
     "name": "stdout",
     "output_type": "stream",
     "text": [
      "Windows\n"
     ]
    }
   ],
   "source": [
    "import platform\n",
    "\n",
    "x = platform.system()\n",
    "print(x)"
   ]
  },
  {
   "cell_type": "code",
   "execution_count": 19,
   "metadata": {},
   "outputs": [
    {
     "name": "stdout",
     "output_type": "stream",
     "text": [
      "2019\n",
      "Wed\n"
     ]
    }
   ],
   "source": [
    "import datetime\n",
    "\n",
    "x = datetime.datetime.now()\n",
    "\n",
    "print(x.year)\n",
    "print(x.strftime(\"%a\"))"
   ]
  },
  {
   "cell_type": "code",
   "execution_count": null,
   "metadata": {},
   "outputs": [],
   "source": []
  }
 ],
 "metadata": {
  "kernelspec": {
   "display_name": "Python 3",
   "language": "python",
   "name": "python3"
  },
  "language_info": {
   "codemirror_mode": {
    "name": "ipython",
    "version": 3
   },
   "file_extension": ".py",
   "mimetype": "text/x-python",
   "name": "python",
   "nbconvert_exporter": "python",
   "pygments_lexer": "ipython3",
   "version": "3.7.3"
  }
 },
 "nbformat": 4,
 "nbformat_minor": 2
}
