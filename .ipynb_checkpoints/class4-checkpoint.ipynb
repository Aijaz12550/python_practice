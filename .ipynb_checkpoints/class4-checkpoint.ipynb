{
 "cells": [
  {
   "cell_type": "markdown",
   "metadata": {},
   "source": [
    "# Dictionary"
   ]
  },
  {
   "cell_type": "code",
   "execution_count": 1,
   "metadata": {},
   "outputs": [],
   "source": [
    "data = { 'Name' : 'Aijaz' }  # In Dictionary(Object) we also use JSON format like JS\n",
    "\n",
    "# SQL ==> it is structured data like in tabular form.\n",
    "# No SQL ==> it is not structured.."
   ]
  },
  {
   "cell_type": "markdown",
   "metadata": {},
   "source": [
    "# Dictionary\n",
    "- methods\n",
    "- attributes\n",
    "- extract values from dictionary\n",
    "\n",
    "# user define function\n",
    "- default function\n",
    "- required arguments function\n",
    "- optional arguments function\n",
    "- pass arguments with values and key=values"
   ]
  },
  {
   "cell_type": "code",
   "execution_count": 3,
   "metadata": {},
   "outputs": [
    {
     "name": "stdout",
     "output_type": "stream",
     "text": [
      "[1, 2, 3, 4]\n",
      "1 2 3 4\n"
     ]
    }
   ],
   "source": [
    "list1 = [ 1, 2, 3, 4 ]\n",
    "\n",
    "print(list1)\n",
    "print(*list1)"
   ]
  },
  {
   "cell_type": "code",
   "execution_count": 11,
   "metadata": {},
   "outputs": [
    {
     "data": {
      "text/plain": [
       "('Aijaz', 'Ali Akbar')"
      ]
     },
     "execution_count": 11,
     "metadata": {},
     "output_type": "execute_result"
    }
   ],
   "source": [
    "obj1 = {\n",
    "    'name' : 'Aijaz',\n",
    "    'Fname': 'Ali Akbar',\n",
    "    'cell' : '111111111',\n",
    "}\n",
    "obj1['name'], obj1['Fname']"
   ]
  },
  {
   "cell_type": "code",
   "execution_count": 31,
   "metadata": {},
   "outputs": [
    {
     "data": {
      "text/plain": [
       "'Pakistan Hamari jan'"
      ]
     },
     "execution_count": 31,
     "metadata": {},
     "output_type": "execute_result"
    }
   ],
   "source": [
    "obj1 = {\n",
    "    0 : 'Pakistan Hamari jan'\n",
    "}\n",
    "obj1[0]"
   ]
  },
  {
   "cell_type": "code",
   "execution_count": 29,
   "metadata": {},
   "outputs": [
    {
     "name": "stdout",
     "output_type": "stream",
     "text": [
      "Aijazb\n"
     ]
    }
   ],
   "source": [
    "# object ko hum sirf aisi keys dengy jis p hashable alogorithim apply hosakta hai......\n",
    "data = {\n",
    "    \n",
    "    'users' : {\n",
    "        'user1' : { 'name' : 'Aijaz', 'id':1},\n",
    "        'user2' : { 'name' : 'waqar', 'id':2}\n",
    "    },\n",
    "    \n",
    "    'buyers' : {\n",
    "       'user1' : { 'name' : 'Aijazb', 'id':11},\n",
    "        'user2': { 'name' : 'waqarb', 'id':22}\n",
    "    }\n",
    "    \n",
    "}\n",
    "print(data['buyers']['user1']['name'])\n"
   ]
  },
  {
   "cell_type": "code",
   "execution_count": 33,
   "metadata": {},
   "outputs": [
    {
     "name": "stdout",
     "output_type": "stream",
     "text": [
      "hdjh jffd\n"
     ]
    }
   ],
   "source": [
    "def  abc(name, fname):\n",
    "    print(name, fname)\n",
    "    \n",
    "abc('hdjh','jffd')"
   ]
  },
  {
   "cell_type": "code",
   "execution_count": 34,
   "metadata": {},
   "outputs": [],
   "source": [
    "# deep copy and shallow copy\n",
    "obj1.clear()"
   ]
  },
  {
   "cell_type": "code",
   "execution_count": 35,
   "metadata": {},
   "outputs": [
    {
     "data": {
      "text/plain": [
       "{}"
      ]
     },
     "execution_count": 35,
     "metadata": {},
     "output_type": "execute_result"
    }
   ],
   "source": [
    "obj1.copy()"
   ]
  },
  {
   "cell_type": "code",
   "execution_count": 39,
   "metadata": {},
   "outputs": [
    {
     "data": {
      "text/plain": [
       "{'name': None, 'fname': None}"
      ]
     },
     "execution_count": 39,
     "metadata": {},
     "output_type": "execute_result"
    }
   ],
   "source": [
    "l1 = [ 'name', 'fname' ]\n",
    "newList = dict.fromkeys(l1)\n",
    "newList"
   ]
  },
  {
   "cell_type": "code",
   "execution_count": 41,
   "metadata": {},
   "outputs": [
    {
     "data": {
      "text/plain": [
       "{'user1': {'name': 'Aijaz', 'id': 1}, 'user2': {'name': 'waqar', 'id': 2}}"
      ]
     },
     "execution_count": 41,
     "metadata": {},
     "output_type": "execute_result"
    }
   ],
   "source": [
    "data.get('users') # extract value from key without generating errror"
   ]
  },
  {
   "cell_type": "code",
   "execution_count": 48,
   "metadata": {},
   "outputs": [
    {
     "name": "stdout",
     "output_type": "stream",
     "text": [
      "dict_keys(['name', 'fName'])\n"
     ]
    },
    {
     "data": {
      "text/plain": [
       "dict_values(['Aijaz', 'Ali Akbar'])"
      ]
     },
     "execution_count": 48,
     "metadata": {},
     "output_type": "execute_result"
    }
   ],
   "source": [
    "obj2 = { 'name' : 'Aijaz', 'fName' : 'Ali Akbar' }\n",
    "\n",
    "print(obj2.keys())\n",
    "obj2.values()"
   ]
  },
  {
   "cell_type": "code",
   "execution_count": 50,
   "metadata": {},
   "outputs": [
    {
     "name": "stdout",
     "output_type": "stream",
     "text": [
      "name\n",
      "id\n"
     ]
    }
   ],
   "source": [
    "for i in data['users']['user1']:\n",
    "    print(i)"
   ]
  },
  {
   "cell_type": "code",
   "execution_count": 51,
   "metadata": {},
   "outputs": [
    {
     "name": "stdout",
     "output_type": "stream",
     "text": [
      "('user1', {'name': 'Aijaz', 'id': 1})\n",
      "('user2', {'name': 'waqar', 'id': 2})\n"
     ]
    }
   ],
   "source": [
    "for i in data['users'].items():\n",
    "    print(i)"
   ]
  },
  {
   "cell_type": "code",
   "execution_count": 52,
   "metadata": {},
   "outputs": [
    {
     "data": {
      "text/plain": [
       "('buyers',\n",
       " {'user1': {'name': 'Aijazb', 'id': 11},\n",
       "  'user2': {'name': 'waqarb', 'id': 22}})"
      ]
     },
     "execution_count": 52,
     "metadata": {},
     "output_type": "execute_result"
    }
   ],
   "source": [
    "data.popitem() # it will return last value with keys.."
   ]
  },
  {
   "cell_type": "code",
   "execution_count": 62,
   "metadata": {},
   "outputs": [],
   "source": [
    "data.setdefault('hjh')"
   ]
  },
  {
   "cell_type": "code",
   "execution_count": 63,
   "metadata": {},
   "outputs": [
    {
     "data": {
      "text/plain": [
       "{'users': {'user1': {'name': 'Aijaz', 'id': 1},\n",
       "  'user2': {'name': 'waqar', 'id': 2}},\n",
       " 'ghd': None,\n",
       " 'name': 'Aijaz',\n",
       " 'fName': 'Ali Akbar',\n",
       " 'hjh': None}"
      ]
     },
     "execution_count": 63,
     "metadata": {},
     "output_type": "execute_result"
    }
   ],
   "source": [
    "data.update(obj2)\n",
    "data"
   ]
  },
  {
   "cell_type": "code",
   "execution_count": null,
   "metadata": {},
   "outputs": [],
   "source": []
  }
 ],
 "metadata": {
  "kernelspec": {
   "display_name": "Python 3",
   "language": "python",
   "name": "python3"
  },
  "language_info": {
   "codemirror_mode": {
    "name": "ipython",
    "version": 3
   },
   "file_extension": ".py",
   "mimetype": "text/x-python",
   "name": "python",
   "nbconvert_exporter": "python",
   "pygments_lexer": "ipython3",
   "version": "3.7.3"
  }
 },
 "nbformat": 4,
 "nbformat_minor": 2
}
